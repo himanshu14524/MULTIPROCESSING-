{
 "cells": [
  {
   "cell_type": "code",
   "execution_count": null,
   "id": "a8a860d8-90c0-4020-a5af-40223ac22b4d",
   "metadata": {},
   "outputs": [],
   "source": [
    "Q1. What is multiprocessing in python? Why is it useful?\n",
    "\n",
    "ANS--Multiprocessing in Python refers to the capability of the Python programming language to\n",
    "create multiple processes that can run concurrently and independently. Each process runs in its\n",
    "own memory space, providing true parallelism and allowing multiple CPU cores to be utilized effectively.\n",
    "\n",
    "IT IS USEFUL FOR :\n",
    "\n",
    "Parallelism: Enables true parallel execution, utilizing multiple CPU cores for faster performance.\n",
    "\n",
    "CPU-bound Tasks: Ideal for tasks that involve heavy computation and benefit from parallel processing.\n",
    "\n",
    "Resource Utilization: Maximizes hardware resources in multi-core systems.\n",
    "\n",
    "Fault Tolerance: Isolated processes prevent cascading failures.\n",
    "\n",
    "Modularity: Facilitates clear separation of concerns and maintainable code.\n",
    "\n",
    "Improved Performance: Reduces overall processing time for CPU-intensive operations.\n",
    "\n",
    "Independent Memory Space: Avoids race conditions and deadlocks common in multithreading."
   ]
  },
  {
   "cell_type": "code",
   "execution_count": null,
   "id": "6ee8d985-bec0-4b10-9af4-8625178a69ba",
   "metadata": {},
   "outputs": [],
   "source": [
    "Q2. What are the differences between multiprocessing and multithreading?\n",
    "\n",
    "ANS--Multiprocessing and multithreading are both techniques used for achieving concurrent execution in Python,\n",
    "but they differ in several aspects. Here are the key differences between multiprocessing and multithreading:\n",
    "\n",
    "Definition:\n",
    "\n",
    "Multiprocessing: Involves creating multiple independent processes, each with its own memory space and Global\n",
    "Interpreter Lock (GIL). Processes run in parallel and can fully utilize multi-core processors.\n",
    "Multithreading: Involves creating multiple threads within the same process, all sharing the same memory space\n",
    "and GIL. Threads run concurrently, but due to the GIL, they do not achieve true parallelism on multi-core processors\n",
    "for CPU-bound tasks.\n",
    "Resource Utilization:\n",
    "\n",
    "Multiprocessing: Can utilize multiple CPU cores effectively, making it suitable for CPU-bound tasks.\n",
    "Multithreading: Does not take full advantage of multi-core processors due to the GIL limitation, making it\n",
    "better for I/O-bound tasks."
   ]
  },
  {
   "cell_type": "code",
   "execution_count": null,
   "id": "005fbada-ca08-407a-b6ea-43e25d43f6c5",
   "metadata": {},
   "outputs": [],
   "source": [
    "Q3. Write a python code to create a process using the multiprocessing module.\n",
    "\n",
    "ANS--\n",
    "import multiprocessing\n",
    "import os\n",
    "\n",
    "def print_process_info():\n",
    "    process_id = os.getpid()\n",
    "    process_name = multiprocessing.current_process().name\n",
    "    print(f\"Process ID: {process_id}, Process Name: {process_name}\")\n",
    "\n",
    "if __name__ == \"__main__\":\n",
    "    # Create a process instance\n",
    "    my_process = multiprocessing.Process(target=print_process_info)\n",
    "\n",
    "    # Start the process\n",
    "    my_process.start()\n",
    "\n",
    "    # Wait for the process to finish\n",
    "    my_process.join()\n",
    "\n",
    "    print(\"Main process is complete.\")\n"
   ]
  },
  {
   "cell_type": "code",
   "execution_count": null,
   "id": "9b6997c0-6125-45ac-a6ec-0dfc5a418e71",
   "metadata": {},
   "outputs": [],
   "source": [
    "Q4. What is a multiprocessing pool in python? Why is it used?\n",
    "\n",
    "ANS--A multiprocessing pool in Python is a component of the multiprocessing module that provides a convenient\n",
    "way to parallelize and distribute tasks across multiple processes. It allows you to create a pool of worker\n",
    "processes, and you can submit tasks to this pool. The pool manages the distribution of tasks to the available\n",
    "worker processes, ensuring efficient utilization of CPU cores and reducing the overhead of process creation.\n",
    "\n",
    "IS IS USEFUL FOR:\n",
    " Concurrency: A pool allows you to execute multiple tasks concurrently, making it ideal for CPU-bound tasks that\n",
    "can be divided into smaller, independent chunks.\n",
    "\n",
    "Parallel Processing: The pool distributes tasks among worker processes, providing true parallelism, and efficiently\n",
    "utilizes multi-core processors to speed up processing.\n",
    "\n",
    "Resource Management: The pool manages worker processes, reusing them for multiple tasks, which saves overhead \n",
    "compared to creating a new process for each task.\n",
    "\n",
    "Simplified Interface: The pool abstracts the complexity of managing individual processes and offers a \n",
    "straightforward interface to submit tasks and retrieve results   "
   ]
  },
  {
   "cell_type": "code",
   "execution_count": null,
   "id": "03730db1-46f6-4c90-bd85-f518ae24740d",
   "metadata": {},
   "outputs": [],
   "source": [
    "Q5. How can we create a pool of worker processes in python using the multiprocessing module?\n",
    "\n",
    "ANS--To create a pool of worker processes in Python using the multiprocessing module, you can utilize\n",
    "the multiprocessing.Pool class. The Pool class provides a simple interface to create and manage a pool\n",
    "of worker processes. You can submit tasks to the pool, and it will efficiently distribute the tasks among \n",
    "the available worker processes for concurrent execution.\n",
    "\n",
    "TO CREATE THE POOL OF WORKER FOLLOW THESE STEPS :\n",
    "1.Import the multiprocessing module.\n",
    "2.Define the function that you want to parallelize (the function that will be executed by worker processes).\n",
    "3.Create an instance of multiprocessing.Pool with the desired number of worker processes.\n",
    "4.Use one of the pool's methods (apply(), apply_async(), map(), or map_async()) to submit tasks to the pool for processing.\n",
    "5.Optionally, close the pool using the close() method after submitting all tasks.\n",
    "6.Optionally, call the join() method on the pool to wait for all worker processes to complete their tasks.\n",
    "7.Use the pool context manager (with statement) to handle automatic closing and joining of the pool."
   ]
  },
  {
   "cell_type": "code",
   "execution_count": null,
   "id": "0abdfe83-dfe4-4c5d-a051-1806bfa08ee8",
   "metadata": {},
   "outputs": [],
   "source": [
    "Q6. Write a python program to create 4 processes, each process should print a different number using the\n",
    "multiprocessing module in python."
   ]
  }
 ],
 "metadata": {
  "kernelspec": {
   "display_name": "Python 3 (ipykernel)",
   "language": "python",
   "name": "python3"
  },
  "language_info": {
   "codemirror_mode": {
    "name": "ipython",
    "version": 3
   },
   "file_extension": ".py",
   "mimetype": "text/x-python",
   "name": "python",
   "nbconvert_exporter": "python",
   "pygments_lexer": "ipython3",
   "version": "3.10.8"
  }
 },
 "nbformat": 4,
 "nbformat_minor": 5
}
